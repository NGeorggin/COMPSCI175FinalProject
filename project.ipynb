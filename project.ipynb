{
  "cells": [
    {
      "cell_type": "markdown",
      "metadata": {
        "id": "view-in-github",
        "colab_type": "text"
      },
      "source": [
        "<a href=\"https://colab.research.google.com/github/NGeorggin/COMPSCI175FinalProject/blob/main/project.ipynb\" target=\"_parent\"><img src=\"https://colab.research.google.com/assets/colab-badge.svg\" alt=\"Open In Colab\"/></a>"
      ]
    },
    {
      "cell_type": "markdown",
      "metadata": {
        "id": "NiB6hs7-YXKq"
      },
      "source": [
        "#COMPSCI 175 Final Project. Project Group 7."
      ]
    },
    {
      "cell_type": "markdown",
      "metadata": {
        "id": "xQROmqL20xIj"
      },
      "source": [
        "##Libraries and Imports"
      ]
    },
    {
      "cell_type": "code",
      "execution_count": 1,
      "metadata": {
        "colab": {
          "base_uri": "https://localhost:8080/"
        },
        "id": "LgdEaymNYOWv",
        "outputId": "86095462-913b-4f9a-9c78-0cb8db77b980"
      },
      "outputs": [
        {
          "output_type": "stream",
          "name": "stdout",
          "text": [
            "Collecting rlcard\n",
            "  Downloading rlcard-1.2.0.tar.gz (269 kB)\n",
            "\u001b[?25l     \u001b[90m━━━━━━━━━━━━━━━━━━━━━━━━━━━━━━━━━━━━━━━━\u001b[0m \u001b[32m0.0/269.0 kB\u001b[0m \u001b[31m?\u001b[0m eta \u001b[36m-:--:--\u001b[0m\r\u001b[2K     \u001b[91m━━━━━━━━━━━━━━━━━━━━━\u001b[0m\u001b[90m╺\u001b[0m\u001b[90m━━━━━━━━━━━━━━━━━━\u001b[0m \u001b[32m143.4/269.0 kB\u001b[0m \u001b[31m4.4 MB/s\u001b[0m eta \u001b[36m0:00:01\u001b[0m\r\u001b[2K     \u001b[90m━━━━━━━━━━━━━━━━━━━━━━━━━━━━━━━━━━━━━━━━\u001b[0m \u001b[32m269.0/269.0 kB\u001b[0m \u001b[31m4.8 MB/s\u001b[0m eta \u001b[36m0:00:00\u001b[0m\n",
            "\u001b[?25h  Preparing metadata (setup.py) ... \u001b[?25l\u001b[?25hdone\n",
            "Requirement already satisfied: numpy>=1.16.3 in /usr/local/lib/python3.10/dist-packages (from rlcard) (1.26.4)\n",
            "Requirement already satisfied: termcolor in /usr/local/lib/python3.10/dist-packages (from rlcard) (2.5.0)\n",
            "Building wheels for collected packages: rlcard\n",
            "  Building wheel for rlcard (setup.py) ... \u001b[?25l\u001b[?25hdone\n",
            "  Created wheel for rlcard: filename=rlcard-1.2.0-py3-none-any.whl size=325794 sha256=7b844b91284a5340a95dbae2f99ea2f76752c6cf0eabbe7f141cd4cfd0d682e3\n",
            "  Stored in directory: /root/.cache/pip/wheels/a5/0a/39/26d73b035027276e526bec94b0217ed799109d7890c34a7d9b\n",
            "Successfully built rlcard\n",
            "Installing collected packages: rlcard\n",
            "Successfully installed rlcard-1.2.0\n"
          ]
        }
      ],
      "source": [
        "# Below are all RLCard's Import Statements and Associated Libraries that we need for our models according to (Getting Started, n. d.)\n",
        "# Imported common libraries that we will use for various operations for RLCard, DQN, NN, etc.\n",
        "!pip install rlcard\n",
        "import rlcard\n",
        "from rlcard.envs import Env\n",
        "from rlcard.agents import RandomAgent, DQNAgent\n",
        "from rlcard.games.base import Card\n",
        "from rlcard.games.nolimitholdem import (\n",
        "    Game,\n",
        "    Round,\n",
        "    Action\n",
        ")\n",
        "from rlcard.utils import ( # (rlcard.utils, n. d.)\n",
        "    get_device,\n",
        "    set_seed,\n",
        "    tournament,\n",
        "    reorganize,\n",
        "    Logger,\n",
        "    plot_curve,\n",
        ")\n",
        "import os\n",
        "import argparse\n",
        "from enum import Enum\n",
        "from collections import OrderedDict\n",
        "import csv\n",
        "import numpy as np\n",
        "from copy import deepcopy\n",
        "\n",
        "# Import statements for Neural Networks from (Georggin, 2024).\n",
        "import torch\n",
        "import torch.nn as nn\n",
        "import torch.nn.functional as F\n",
        "import torch.optim as optim\n",
        "from torch.distributions import Categorical\n"
      ]
    },
    {
      "cell_type": "markdown",
      "metadata": {
        "id": "C6Cb-0esfQgV"
      },
      "source": [
        "##Neural Network Construction (For Guessing Opponent's Hand)"
      ]
    },
    {
      "cell_type": "code",
      "execution_count": 2,
      "metadata": {
        "id": "zth9EI1TiNvT"
      },
      "outputs": [],
      "source": [
        "class NNPolicy(nn.Module): # Making a class for NN (Georggin, 2024)\n",
        "    def __init__(self, hidden):\n",
        "        super(NNPolicy, self).__init__() # Super Init from NN imported module (Georggin, 2024)\n",
        "\n",
        "        \"\"\"\n",
        "        Input: Community Cards (5 input nodes), Opponent's Money they've Bet (1 input node), Opponent's Last Move (1 input node). 7 input nodes in total.\n",
        "        Output: Array of 10 probabilities that the opponent has a particular hand.\n",
        "        10 possible hands are: high card, pair, two pair, three of a kind, straight, flush, full house, four of a kind, straight flush, royal flush.\n",
        "        \"\"\"\n",
        "\n",
        "        # Establish the convolutional layers to handle the proper size of input and outputs in a way similar to (Georggin, 2024)\n",
        "        self.fc1 = nn.Conv1d(1, hidden, 1)\n",
        "        self.fc2 = nn.Conv1d(hidden, hidden, 1)\n",
        "        self.fc3 = nn.Conv1d(hidden, 10, 7)\n",
        "\n",
        "\n",
        "    def probOpponentHand(self, communityCards, oppMoney, oppLastMove, device): # Getting a projection from the NN (Georggin, 2024)\n",
        "\n",
        "        while len(communityCards) < 5:\n",
        "          communityCards.append(-1) # Denotes a card slot that has not been revealed yet\n",
        "\n",
        "        # Add all input points into a single array\n",
        "        x = communityCards[:]\n",
        "        x.append(oppMoney)\n",
        "        x.append(oppLastMove)\n",
        "\n",
        "\n",
        "        x = torch.tensor(x).float().unsqueeze(0) # Tensor-ify the input array (Georggin, 2024).\n",
        "\n",
        "        # Applying NN layers (Georggin, 2024)\n",
        "        x = self.fc1(x) # Applies Convolutional Layer 1 to the values.\n",
        "        x = F.relu(x)   # Applies Some Standardizing to the values (Just using ReLU because that is what we used in the HW2).\n",
        "        x = self.fc2(x) # Applies Convolutional Layer 2 to the values.\n",
        "        x = F.relu(x)   # Applies Some Standardizing to the values (Just using ReLU because that is what we used in the HW2).\n",
        "        x = self.fc3(x) # Applies Convolutional Layer 3 to the values.\n",
        "\n",
        "        # Changing the layers from an array of 10 x 1-element tensors to 1 x 10-element tensor for processing when we get the action.\n",
        "        final = []\n",
        "        for e in x:\n",
        "          final.append(e)\n",
        "\n",
        "        final = torch.tensor(final).float().unsqueeze(0).to(device) # Format the array into tensors (Georggin, 2024)\n",
        "\n",
        "        return F.softmax(final, dim=1) # Applies Some Standardizing to the values (Just using Softmax because that is what we used in the HW2).\n",
        "\n",
        "    def getAction(self, communityCards, oppMoney, oppLastMove, device): # (Georggin, 2024)\n",
        "        probs = self.probOpponentHand(communityCards, oppMoney, oppLastMove, device).cpu() # Get the opponent hand projection from the NN (Georggin, 2024)\n",
        "        m = Categorical(probs) # Categorical (Georggin, 2024)\n",
        "        action = m.sample() # Choose an action based on the probabilities produced (Georggin, 2024)\n",
        "        return action.item(), m.log_prob(action) # (Georggin, 2024) # Chosen action is categorized is some integer E [0, 9]\n"
      ]
    },
    {
      "cell_type": "markdown",
      "metadata": {
        "id": "AjYPWBEd_RbA"
      },
      "source": [
        "##Reinforcement Algorithm for the Neural Network"
      ]
    },
    {
      "cell_type": "code",
      "execution_count": 3,
      "metadata": {
        "id": "QE7GikPmXMBs"
      },
      "outputs": [],
      "source": [
        "def cardSTOI(listCards):\n",
        "\n",
        "    # Creating a card2index dictionary that aligns cards to integer representation (State Representation of No-Limit Texas Hold'em, n. d.)\n",
        "    # We ran into errors when importing this dictionary from RLCard, so we just manually make it here instead.\n",
        "    card2index = dict()\n",
        "    num = 0\n",
        "    for s in ['S', 'H', 'D', 'C']:\n",
        "      for r in ['A','2', '3', '4', '5', '6', '7', '8', '9', 'T', 'J', 'Q','K']:\n",
        "        card2index[s+r] = num\n",
        "        num += 1\n",
        "\n",
        "    # Converts each of the cards in the hand into integer values according to the dictionary so that the NN can interpret the cards.\n",
        "    newList = []\n",
        "    for c in listCards:\n",
        "      newList.append(card2index[c])\n",
        "    return newList\n",
        "\n",
        "def evaluateHandType(communityCards, twoCards):\n",
        "    \"\"\"\n",
        "    The Hands are labeled ...\n",
        "      0. High Card\n",
        "      1. Pair\n",
        "      2. Two Pair\n",
        "      3. Three Of A Kind\n",
        "      4. Straight\n",
        "      5. Flush\n",
        "      6. Full House\n",
        "      7. Four Of A Kind\n",
        "      8. Straight Flush\n",
        "      9. Royal Flush\n",
        "    Because these hands are how the NN has been arranged to distribute probabilities.\n",
        "    The NN returns a tensor of 10 elements, one for each of the above hands.\n",
        "    \"\"\"\n",
        "\n",
        "    bigCardList = communityCards[:] + twoCards[:] # Compile all cards into a list.\n",
        "\n",
        "    if len(bigCardList) < 5: # If there are fewer than 5 cards in our list, then it is impossible to make a hand. Just return.\n",
        "        return -1\n",
        "\n",
        "    # Place the frequency of certain cards appearing in dictionaries for easy access later\n",
        "    suits = {'S':0 , 'C':0 , 'H':0 , 'D':0}\n",
        "    ranks = {'2':0, '3':0, '4':0, '5':0, '6':0, '7':0, '8':0, '9':0, 'T':0, 'J':0, 'Q':0,'K':0,'A':0}\n",
        "\n",
        "    for c in bigCardList:\n",
        "        suits[c[0]] += 1\n",
        "        ranks[c[1]] += 1\n",
        "\n",
        "    # For finding successive cards, we can place instances in a bitstring-like structure and check for instances below\n",
        "    stringOfRanks = \"\"\n",
        "    for v in list(ranks.values()):\n",
        "        if v == 0:\n",
        "          stringOfRanks += \"0\"\n",
        "        else:\n",
        "          stringOfRanks += \"1\"\n",
        "\n",
        "\n",
        "    if \"11111\" in stringOfRanks and (5 in list(suits.values()) or 6 in list(suits.values()) or 7 in list(suits.values())) and stringOfRanks.endswith(\"11111\"): ## Royal Flush Conditions\n",
        "        return 9\n",
        "    elif \"11111\" in stringOfRanks and (5 in list(suits.values()) or 6 in list(suits.values()) or 7 in list(suits.values())): ## Straight Flush\n",
        "        return 8\n",
        "    elif 4 in list(ranks.values()): ## Four of a Kind\n",
        "        return 7\n",
        "    elif (3 in list(ranks.values()) and 2 in list(ranks.values())) or list(ranks.values()).count(3) >= 2: ## Full House\n",
        "        return 6\n",
        "    elif 5 in list(suits.values()) or 6 in list(suits.values()) or 7 in list(suits.values()): ## Flush\n",
        "        return 5\n",
        "    elif \"11111\" in stringOfRanks: ## Straight\n",
        "        return 4\n",
        "    elif 3 in list(ranks.values()): ## Three Of A Kind\n",
        "        return 3\n",
        "    elif list(ranks.values()).count(2) >= 2: ## Two Pair\n",
        "        return 2\n",
        "    elif 2 in list(ranks.values()): ## Pair\n",
        "        return 1\n",
        "    else: ## High Card (if nothing else happens)\n",
        "        return 0"
      ]
    },
    {
      "cell_type": "markdown",
      "metadata": {
        "id": "lNhAXxgaT2WN"
      },
      "source": [
        "## Combining Implementation of both models"
      ]
    },
    {
      "cell_type": "code",
      "execution_count": 4,
      "metadata": {
        "id": "zApR06VkM78F"
      },
      "outputs": [],
      "source": [
        "def NNAffectPayoff(policy, optimizer, trajectories, payoffs, device):\n",
        "\n",
        "    # Getting relevant information from the trajectories data structure.\n",
        "    agentHand = trajectories[0][-1]['raw_obs']['hand']\n",
        "    communityCards = trajectories[0][-1]['raw_obs']['public_cards']\n",
        "    __, oppMoney = trajectories[0][-1]['raw_obs']['all_chips']\n",
        "    oppHandActual = trajectories[-1][-1]['raw_obs']['hand']\n",
        "    actionRecord = trajectories[-1][-1]['action_record']\n",
        "\n",
        "    oppLastMove = -1\n",
        "    for move in actionRecord[::-1]: # Cycle from the most recent move to the least recent\n",
        "      if move[0] == 1: # See which move was last made by the opponent\n",
        "\n",
        "        # Actions in [0, 4] according to action encoding (Action Encoding of No-Limit Texas Hold'em, n. d.)\n",
        "        # Add the number that is associated in enumeration as the opponent's last move.\n",
        "        if move[1] == Action(0):\n",
        "          oppLastMove = 0\n",
        "        elif move[1] == Action(1):\n",
        "          oppLastMove = 1\n",
        "        elif move[1] == Action(2):\n",
        "          oppLastMove = 2\n",
        "        elif move[1] == Action(3):\n",
        "          oppLastMove = 3\n",
        "        elif move[1] == Action(4):\n",
        "          oppLastMove = 4\n",
        "        break\n",
        "\n",
        "\n",
        "    # Compute an amount that the payoffs will be adjusted by\n",
        "    DQNExistingReward = abs(payoffs[0])\n",
        "    rewardAdjustment = 0.1 * DQNExistingReward\n",
        "\n",
        "    oppHandType, oppLogProb = policy.getAction(cardSTOI(communityCards), oppMoney, oppLastMove, device) # Get the projected hand the opponent has using the NN\n",
        "\n",
        "    agentHandType = evaluateHandType(communityCards, agentHand) # Get the agent hand's value\n",
        "\n",
        "    # Skips if there is a projected tie or if there is an edge case\n",
        "    if agentHandType == oppHandType or oppHandType == -1 or agentHandType == -1:\n",
        "        return payoffs\n",
        "\n",
        "    # Improve the agent's rewards if they have a perceived better hand\n",
        "    elif agentHandType > oppHandType:\n",
        "        payoffs[0] += rewardAdjustment\n",
        "        payoffs[1] -= rewardAdjustment\n",
        "\n",
        "    # Decrease the agent's rewards if they have a perceived worse hand\n",
        "    elif agentHandType < oppHandType:\n",
        "        payoffs[0] -= rewardAdjustment\n",
        "        payoffs[1] += rewardAdjustment\n",
        "\n",
        "    nnReturnProbs = policy.probOpponentHand(cardSTOI(communityCards), oppMoney, oppLastMove, device) # Get the probabilities of the opponent having a certain hand from the NN.\n",
        "\n",
        "    # Create an expected rewards array that will be added to the policy array in the same manner as (Georggin, 2024)\n",
        "    # This is done by adding zero to each of the 10 hands except we add a factor of the reward adjustment for the most likely opponent hand\n",
        "    rewardArray = [0] * len(list(nnReturnProbs)[0])\n",
        "    rewardArray[oppHandType] = 2 * rewardAdjustment\n",
        "\n",
        "    # Compute a policy loss array in a manner similar to (Georggin, 2024) to allow optimizer to improve the NN.\n",
        "    policyLoss = []\n",
        "    for i in range(len(nnReturnProbs)): # (Georggin, 2024)\n",
        "        policyLoss.append(1 * (1-nnReturnProbs[0][i]) * rewardArray[i]) # (Georggin, 2024)\n",
        "    policyLoss = torch.tensor(policyLoss, requires_grad=True).sum() # We had trouble with establishing a gradient descent, but adding a `requires_grad` parameter as indicated by (Wen, et al., 2017) on the Pytorch Docs solved our problem\n",
        "\n",
        "    # Update the NN using the optimizer (Georggin, 2024).\n",
        "    optimizer.zero_grad()\n",
        "    policyLoss.backward()\n",
        "    optimizer.step()\n",
        "\n",
        "    return payoffs"
      ]
    },
    {
      "cell_type": "markdown",
      "metadata": {
        "id": "IDQquMdJifgO"
      },
      "source": [
        "##DQN"
      ]
    },
    {
      "cell_type": "code",
      "execution_count": 15,
      "metadata": {
        "id": "gllntIKxihSb"
      },
      "outputs": [],
      "source": [
        "def DQNtrain(args): # (Getting Started, n. d.; rlcard.games.nolimitholdem, n. d.)\n",
        "\n",
        "    # Check whether gpu is available (rlcard.utils, n. d.)\n",
        "    device = get_device()\n",
        "\n",
        "    # Setting the seed that we declare in the arguments (Getting Started, n. d.; rlcard.utils, n. d.)\n",
        "    set_seed(args.seed)\n",
        "\n",
        "    # Make the environment with seed (Getting Started, n. d.; rlcard.games.nolimitholdem, n. d.)\n",
        "    env = rlcard.make(\n",
        "        args.env,\n",
        "        config={\n",
        "            'seed': args.seed,\n",
        "        }\n",
        "    )\n",
        "\n",
        "    # Make a DQN Agent (Getting Started, n. d.; rlcard.agents.dqn_agent, n. d.)\n",
        "    agent = DQNAgent(\n",
        "        num_actions=env.num_actions,\n",
        "        state_shape=env.state_shape[0],\n",
        "        mlp_layers=[64,128],\n",
        "        device=device,\n",
        "        batch_size=64\n",
        "    )\n",
        "\n",
        "    # (Getting Started, n. d.; No-limit Texas Hold'em, n. d.; rlcard.games.nolimitholdem, n. d.)\n",
        "    games_won = 0\n",
        "    csv_path2 = os.path.join(args.log_dir, 'result.csv') # Put the model results in a .csv file to analyze\n",
        "    with open(csv_path2, 'w') as f:\n",
        "        csv_writer = csv.writer(f)\n",
        "        csv_writer.writerow(['episode', 'reward'])\n",
        "\n",
        "    # Make the two players be the following: Our Agent, Random Opponent. (Getting Started, n. d.; rlcard.games.nolimitholdem, n. d.)\n",
        "    agents = [agent]\n",
        "    for _ in range(1, env.num_players):\n",
        "        agents.append(DQNAgent(\n",
        "          num_actions=env.num_actions,\n",
        "          state_shape=env.state_shape[0],\n",
        "          mlp_layers=[64,128],\n",
        "          device=device,\n",
        "          batch_size=64\n",
        "        ))\n",
        "    env.set_agents(agents)\n",
        "\n",
        "    agent = torch.load(args.save_path)\n",
        "    agents[1] = torch.load(args.save_path)\n",
        "\n",
        "    nn = NNPolicy(256) # Create the Neural Network (with an arbitrary yet sufficiently large hidden layer size value).\n",
        "    optimizer = optim.Adam(nn.parameters(), lr=0.001) # Create an Optimizer for updating the NN.\n",
        "\n",
        "    nn = torch.load(os.path.join('experiments/no_limit_holdem_dqn_result/', 'nnmodel.pth'))\n",
        "\n",
        "    with Logger(args.log_dir) as logger: # Log the training, results, and all associated information using a Logger (Getting Started, n. d.; rlcard.utils, n. d.)\n",
        "        for episode in range(args.num_episodes):\n",
        "\n",
        "            # Get environment data from a run (Getting Started, n. d.; rlcard.envs.nolimitholdem, n. d.)\n",
        "            trajectories, payoffs = env.run(is_training=True)\n",
        "\n",
        "            if payoffs[0] > 0: # (Getting Started, n. d.)\n",
        "                games_won += 1\n",
        "\n",
        "            payoffs = NNAffectPayoff(nn, optimizer, trajectories, payoffs, device) # Update the payoffs according to what the NN projects.\n",
        "\n",
        "            # \"Reorganaize the data to be state, action, reward, next_state, done\" (Getting Started, n. d.; No-limit Texas Hold'em, n. d.)\n",
        "            trajectories = reorganize(trajectories, payoffs) # (Getting Started, n. d.; rlcard.utils, n. d.; No-limit Texas Hold'em, n. d.)\n",
        "\n",
        "            # (Getting Started, n. d.)\n",
        "            # \"Feed transitions into agent memory, and train the agent\n",
        "            # \"Here, we assume that DQN always plays the first position\n",
        "            # \"and the other players play randomly (if any)\"\" (Getting Started, n. d.).\n",
        "            for ts in trajectories[0]:\n",
        "                agent.feed(ts)\n",
        "\n",
        "            # Evaluate the performance. Play with random agents. Log everything in the save files (Getting Started, n. d.; rlcard.games.nolimitholdem, n. d.)\n",
        "            if episode % args.evaluate_every == 0: # (Getting Started, n. d.; rlcard.utils, n. d.)\n",
        "                logger.log_performance(\n",
        "                    episode,\n",
        "                    tournament(\n",
        "                        env,\n",
        "                        args.num_eval_games,\n",
        "                    )[0]\n",
        "                )\n",
        "                with open(csv_path2, 'a') as f: # (Getting Started, n. d.)\n",
        "                    csv_writer = csv.writer(f)\n",
        "                    if episode == 0:\n",
        "                        win_rate = 0\n",
        "                    else:\n",
        "                        win_rate = games_won / episode\n",
        "                    csv_writer.writerow([episode, win_rate])\n",
        "\n",
        "        # Get the paths and plot the curve on a graphic to be returned at the end (Getting Started, n. d.; rlcard.utils, n. d.; rlcard.games.nolimitholdem, n. d.)\n",
        "        csv_path, fig_path = logger.csv_path, logger.fig_path\n",
        "        fig_path2 = os.path.join(args.log_dir, 'fig2.png')\n",
        "        plot_curve(csv_path2, fig_path2, 'win_rate')\n",
        "\n",
        "    # Plot the learning curve to print out at the end (Getting Started, n. d.; rlcard.utils, n. d.)\n",
        "    plot_curve(csv_path, fig_path, args.algorithm)"
      ]
    },
    {
      "cell_type": "code",
      "execution_count": 16,
      "metadata": {
        "id": "GUfh8DAhihG6",
        "colab": {
          "base_uri": "https://localhost:8080/",
          "height": 1000
        },
        "outputId": "11f0586a-ee08-45f8-c2f2-38b5d72ce534"
      },
      "outputs": [
        {
          "output_type": "stream",
          "name": "stdout",
          "text": [
            "--> Running on the CPU\n"
          ]
        },
        {
          "output_type": "stream",
          "name": "stderr",
          "text": [
            "<ipython-input-15-57661f94a909>:45: FutureWarning: You are using `torch.load` with `weights_only=False` (the current default value), which uses the default pickle module implicitly. It is possible to construct malicious pickle data which will execute arbitrary code during unpickling (See https://github.com/pytorch/pytorch/blob/main/SECURITY.md#untrusted-models for more details). In a future release, the default value for `weights_only` will be flipped to `True`. This limits the functions that could be executed during unpickling. Arbitrary objects will no longer be allowed to be loaded via this mode unless they are explicitly allowlisted by the user via `torch.serialization.add_safe_globals`. We recommend you start setting `weights_only=True` for any use case where you don't have full control of the loaded file. Please open an issue on GitHub for any issues related to this experimental feature.\n",
            "  agent = torch.load(args.save_path)\n",
            "<ipython-input-15-57661f94a909>:46: FutureWarning: You are using `torch.load` with `weights_only=False` (the current default value), which uses the default pickle module implicitly. It is possible to construct malicious pickle data which will execute arbitrary code during unpickling (See https://github.com/pytorch/pytorch/blob/main/SECURITY.md#untrusted-models for more details). In a future release, the default value for `weights_only` will be flipped to `True`. This limits the functions that could be executed during unpickling. Arbitrary objects will no longer be allowed to be loaded via this mode unless they are explicitly allowlisted by the user via `torch.serialization.add_safe_globals`. We recommend you start setting `weights_only=True` for any use case where you don't have full control of the loaded file. Please open an issue on GitHub for any issues related to this experimental feature.\n",
            "  agents[1] = torch.load(args.save_path)\n",
            "<ipython-input-15-57661f94a909>:51: FutureWarning: You are using `torch.load` with `weights_only=False` (the current default value), which uses the default pickle module implicitly. It is possible to construct malicious pickle data which will execute arbitrary code during unpickling (See https://github.com/pytorch/pytorch/blob/main/SECURITY.md#untrusted-models for more details). In a future release, the default value for `weights_only` will be flipped to `True`. This limits the functions that could be executed during unpickling. Arbitrary objects will no longer be allowed to be loaded via this mode unless they are explicitly allowlisted by the user via `torch.serialization.add_safe_globals`. We recommend you start setting `weights_only=True` for any use case where you don't have full control of the loaded file. Please open an issue on GitHub for any issues related to this experimental feature.\n",
            "  nn = torch.load(os.path.join('experiments/no_limit_holdem_dqn_result/', 'nnmodel.pth'))\n"
          ]
        },
        {
          "output_type": "stream",
          "name": "stdout",
          "text": [
            "INFO - Step 113095, rl-loss: 1910.953369140625\n",
            "----------------------------------------\n",
            "  episode      |  0\n",
            "  reward       |  -41.15\n",
            "----------------------------------------\n",
            "INFO - Step 113100, rl-loss: 950.9140014648438\n",
            "INFO - Copied model parameters to target network.\n",
            "INFO - Step 113296, rl-loss: 558.0076904296875\n",
            "----------------------------------------\n",
            "  episode      |  100\n",
            "  reward       |  -42.278\n",
            "----------------------------------------\n",
            "INFO - Step 113472, rl-loss: 1217.0927734375\n",
            "----------------------------------------\n",
            "  episode      |  200\n",
            "  reward       |  -41.7945\n",
            "----------------------------------------\n",
            "INFO - Step 113668, rl-loss: 1022.8825073242188\n",
            "----------------------------------------\n",
            "  episode      |  300\n",
            "  reward       |  -41.3955\n",
            "----------------------------------------\n",
            "INFO - Step 113844, rl-loss: 1396.79052734375\n",
            "----------------------------------------\n",
            "  episode      |  400\n",
            "  reward       |  -42.4095\n",
            "----------------------------------------\n",
            "INFO - Step 114024, rl-loss: 885.5330810546875\n",
            "Logs saved in experiments/no_limit_holdem_dqn_result/\n"
          ]
        },
        {
          "output_type": "display_data",
          "data": {
            "text/plain": [
              "<Figure size 640x480 with 1 Axes>"
            ],
            "image/png": "[encoded data removed]"
          },
          "metadata": {}
        },
        {
          "output_type": "display_data",
          "data": {
            "text/plain": [
              "<Figure size 640x480 with 1 Axes>"
            ],
            "image/png": "[encoded data removed]"
          },
          "metadata": {}
        }
      ],
      "source": [
        "if __name__ == '__main__': # (Getting Started, n. d.)\n",
        "    parser = argparse.ArgumentParser(\"DQN example in RLCard\") # (Getting Started, n. d.)\n",
        "\n",
        "    # Each of these parser argeuments are done while keeping with the format specified in (Getting Started, n. d.).\n",
        "\n",
        "    parser.add_argument( # Make the game model we are working off the 'no-limit-holdem' game from RLCard (Getting Started, n. d.)\n",
        "        '--env',\n",
        "        type=str,\n",
        "        default='no-limit-holdem',\n",
        "        choices=[\n",
        "            'no-limit-holdem',\n",
        "        ],\n",
        "    )\n",
        "    parser.add_argument( # Make the primary RL model that our game will be the DQN (Getting Started, n. d.; rlcard.agents.dqn_agent, n. d.)\n",
        "        '--algorithm',\n",
        "        type=str,\n",
        "        default='dqn',\n",
        "        choices=[\n",
        "            'dqn',\n",
        "        ],\n",
        "    )\n",
        "    parser.add_argument( # Cuda Argument (Getting Started, n. d.)\n",
        "        '--cuda',\n",
        "        type=str,\n",
        "        default='',\n",
        "    )\n",
        "    parser.add_argument( # Constant seed for deterministic choices when replicating the model (Getting Started, n. d.)\n",
        "        '--seed',\n",
        "        type=int,\n",
        "        default=42,\n",
        "    )\n",
        "    parser.add_argument( # Constant number of episodes to run (Getting Started, n. d.)\n",
        "        '--num_episodes',\n",
        "        type=int,\n",
        "        default=500,\n",
        "    )\n",
        "    parser.add_argument( # Constant number of games to evaluate (Getting Started, n. d.)\n",
        "        '--num_eval_games',\n",
        "        type=int,\n",
        "        default=2000,\n",
        "    )\n",
        "    parser.add_argument( # Constant number of every so many games is when we will run an evaluation to see how well we are doing (Getting Started, n. d.)\n",
        "        '--evaluate_every',\n",
        "        type=int,\n",
        "        default=100,\n",
        "    )\n",
        "    parser.add_argument( # Establish a dictionary in which to store the files (Getting Started, n. d.)\n",
        "        '--log_dir',\n",
        "        type=str,\n",
        "        default='experiments/no_limit_holdem_dqn_result/',\n",
        "    )\n",
        "    parser.add_argument( # Path to save the DQN model as part of this program (Getting Started, n. d.)\n",
        "        '--save_path',\n",
        "        type=str,\n",
        "        default=os.path.join('experiments/no_limit_holdem_dqn_result/', 'model.pth'),\n",
        "    )\n",
        "\n",
        "    args, unknown = parser.parse_known_args() # (Getting Started, n. d.)\n",
        "\n",
        "    os.environ[\"CUDA_VISIBLE_DEVICES\"] = args.cuda # (Getting Started, n. d.)\n",
        "\n",
        "    DQNtrain(args) # Run the training with the arguments mentioned above. (Getting Started, n. d.)"
      ]
    },
    {
      "cell_type": "markdown",
      "metadata": {
        "id": "VbDsmuFjxumh"
      },
      "source": [
        "##References"
      ]
    },
    {
      "cell_type": "markdown",
      "source": [
        "Action Encoding of No-Limit Texas Hold'em. (n. d.). RLCard Data Lab. https://rlcard.org/games.html#action-encoding-of-no-limit-texas-hold-em\n",
        "Georggin, N. E. (2024, November 10). Homework 2. COMPSCI 175 LEC A Gradescope. https://canvas.eee.uci.edu/courses/68219/assignments/1470589\n",
        "    Note: This above assignment was completed with material provided by the class at Xie, X. (2024). HW2.ipynb. Google Drive. https://drive.google.com/file/d/1rJq6sne8xmhV3UEK_V13w_hhVQzMDRqO/view\n",
        "Getting Started. (n. d.). RLCard Data Lab. https://rlcard.org/getting_started.html\n",
        "No-limit Texas Hold'em. (n. d.). RLCard Data Lab. https://rlcard.org/games.html#no-limit-texas-hold-em\n",
        "rlcard.agents.dqn_agent. (n. d.). RLCard Data Lab. https://rlcard.org/rlcard.agents.html#module-rlcard.agents.dqn_agent\n",
        "rlcard.envs.nolimitholdem. (n. d.). RLCard Data Lab. https://rlcard.org/rlcard.envs.html#module-rlcard.envs.nolimitholdem\n",
        "rlcard.games.nolimitholdem. (n. d.). RLCard Data Lab. https://rlcard.org/rlcard.games.nolimitholdem.html\n",
        "rlcard.utils. (n. d.). RLCard Data Lab. https://rlcard.org/rlcard.utils.html\n",
        "State Representation of No-Limit Texas Hold'em. (n. d.). RLCard Data Lab. https://rlcard.org/games.html#state-representation-of-no-limit-texas-hold-em\n",
        "Wen, Z., et al. (2017, December). RuntimeError: element 0 of variables does not require grad and does not have a grad_fn. PyTorch. https://discuss.pytorch.org/t/runtimeerror-element-0-of-variables-does-not-require-grad-and-does-not-have-a-grad-fn/11074"
      ],
      "metadata": {
        "id": "BCf9tzrFVuDP"
      }
    }
  ],
  "metadata": {
    "colab": {
      "provenance": [],
      "include_colab_link": true
    },
    "kernelspec": {
      "display_name": "Python 3",
      "name": "python3"
    },
    "language_info": {
      "name": "python"
    }
  },
  "nbformat": 4,
  "nbformat_minor": 0
}